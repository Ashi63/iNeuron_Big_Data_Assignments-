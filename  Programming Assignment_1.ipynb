{
 "cells": [
  {
   "cell_type": "markdown",
   "id": "b7944d69",
   "metadata": {},
   "source": [
    "## Programming Assignment_1"
   ]
  },
  {
   "cell_type": "markdown",
   "id": "554f7905",
   "metadata": {},
   "source": [
    "### 1. Write a Python program to print \"Hello Python\"?"
   ]
  },
  {
   "cell_type": "markdown",
   "id": "84dfdd57",
   "metadata": {},
   "source": [
    "##### Sol:"
   ]
  },
  {
   "cell_type": "code",
   "execution_count": 5,
   "id": "d1ee80c4",
   "metadata": {},
   "outputs": [
    {
     "name": "stdout",
     "output_type": "stream",
     "text": [
      "Hello Python\n"
     ]
    }
   ],
   "source": [
    "print(\"Hello Python\")"
   ]
  },
  {
   "cell_type": "markdown",
   "id": "a38b8a84",
   "metadata": {},
   "source": [
    "### 2. Write a Python program to do arithmetical operations addition and division.?\n"
   ]
  },
  {
   "cell_type": "markdown",
   "id": "47fc76cc",
   "metadata": {},
   "source": [
    "##### Sol:"
   ]
  },
  {
   "cell_type": "code",
   "execution_count": 6,
   "id": "88e2a08b",
   "metadata": {},
   "outputs": [
    {
     "name": "stdout",
     "output_type": "stream",
     "text": [
      "Addition:  30\n",
      "Division:  2.0\n"
     ]
    }
   ],
   "source": [
    "a = 20\n",
    "b = 10\n",
    "# addition\n",
    "add = a + b\n",
    "# division\n",
    "div = a /b\n",
    "\n",
    "print(\"Addition: \",add)\n",
    "print(\"Division: \", div)"
   ]
  },
  {
   "cell_type": "markdown",
   "id": "9a66835e",
   "metadata": {},
   "source": [
    "### 3. Write a Python program to find the area of a triangle?\n"
   ]
  },
  {
   "cell_type": "markdown",
   "id": "7eec53fa",
   "metadata": {},
   "source": [
    "##### Sol:"
   ]
  },
  {
   "cell_type": "code",
   "execution_count": 7,
   "id": "de97cf68",
   "metadata": {},
   "outputs": [
    {
     "name": "stdout",
     "output_type": "stream",
     "text": [
      "625.0\n"
     ]
    }
   ],
   "source": [
    "height = 50\n",
    "base   = 25\n",
    "#formuls for area of triangle is (1/2)*height*base\n",
    "area_traingle = (1/2)*height*base\n",
    "print(area_traingle)"
   ]
  },
  {
   "cell_type": "markdown",
   "id": "04677739",
   "metadata": {},
   "source": [
    "### 4. Write a Python program to swap two variables?\n"
   ]
  },
  {
   "cell_type": "markdown",
   "id": "57be4e08",
   "metadata": {},
   "source": [
    "##### Sol:"
   ]
  },
  {
   "cell_type": "code",
   "execution_count": 8,
   "id": "bacedada",
   "metadata": {},
   "outputs": [
    {
     "name": "stdout",
     "output_type": "stream",
     "text": [
      "a before swaping: 10\n",
      "b before swaping: 20\n",
      "\n",
      "a after swaping: 20\n",
      "b after swaping: 10\n"
     ]
    }
   ],
   "source": [
    "a = 10\n",
    "b = 20\n",
    "print(f\"a before swaping: {a}\")\n",
    "print(f\"b before swaping: {b}\")\n",
    "\n",
    "print()\n",
    "c = a\n",
    "a = b\n",
    "b = c\n",
    "print(f\"a after swaping: {a}\")\n",
    "print(f\"b after swaping: {b}\")"
   ]
  },
  {
   "cell_type": "markdown",
   "id": "1da8bc47",
   "metadata": {},
   "source": [
    "### 5. Write a Python program to generate a random number?\n"
   ]
  },
  {
   "cell_type": "markdown",
   "id": "704659db",
   "metadata": {},
   "source": [
    "##### Sol:"
   ]
  },
  {
   "cell_type": "code",
   "execution_count": 9,
   "id": "adf329f4",
   "metadata": {},
   "outputs": [
    {
     "name": "stdout",
     "output_type": "stream",
     "text": [
      "0.255564361643699\n",
      "731\n"
     ]
    }
   ],
   "source": [
    "import random\n",
    "\n",
    "print(random.random())\n",
    "print(random.randint(1,1000))"
   ]
  },
  {
   "cell_type": "code",
   "execution_count": null,
   "id": "8dedcbe8",
   "metadata": {},
   "outputs": [],
   "source": []
  }
 ],
 "metadata": {
  "kernelspec": {
   "display_name": "Python 3 (ipykernel)",
   "language": "python",
   "name": "python3"
  },
  "language_info": {
   "codemirror_mode": {
    "name": "ipython",
    "version": 3
   },
   "file_extension": ".py",
   "mimetype": "text/x-python",
   "name": "python",
   "nbconvert_exporter": "python",
   "pygments_lexer": "ipython3",
   "version": "3.10.5"
  }
 },
 "nbformat": 4,
 "nbformat_minor": 5
}
