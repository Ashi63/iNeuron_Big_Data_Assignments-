{
 "cells": [
  {
   "cell_type": "markdown",
   "id": "9c4c032c",
   "metadata": {},
   "source": [
    "## Programming Assignment_2\n",
    "-------------"
   ]
  },
  {
   "cell_type": "markdown",
   "id": "b74173e5",
   "metadata": {},
   "source": [
    "### 1. Write a Python program to convert kilometers to miles?\n"
   ]
  },
  {
   "cell_type": "markdown",
   "id": "7300d022",
   "metadata": {},
   "source": [
    "##### Sol."
   ]
  },
  {
   "cell_type": "code",
   "execution_count": 2,
   "id": "28894916",
   "metadata": {},
   "outputs": [
    {
     "name": "stdout",
     "output_type": "stream",
     "text": [
      "For 6 kilometers equivalent distance in miles is: 3.7282364198988405\n"
     ]
    }
   ],
   "source": [
    "km    = 6 \n",
    "miles = km/1.60934\n",
    "\n",
    "print(f\"For {km} kilometers equivalent distance in miles is: {miles}\")"
   ]
  },
  {
   "cell_type": "markdown",
   "id": "53cd1d50",
   "metadata": {},
   "source": [
    "### 2.Write a Python program to convert Celsius to Fahrenheit?\n"
   ]
  },
  {
   "cell_type": "markdown",
   "id": "50a416b8",
   "metadata": {},
   "source": [
    "##### Sol."
   ]
  },
  {
   "cell_type": "code",
   "execution_count": 3,
   "id": "a96afad0",
   "metadata": {},
   "outputs": [
    {
     "name": "stdout",
     "output_type": "stream",
     "text": [
      "For Celsius 35 equivalent Fahrenheit temperature is: 95.0 \n"
     ]
    }
   ],
   "source": [
    "celsius    = 35\n",
    "fahrenheit = (9*celsius/5)+32\n",
    "\n",
    "print(f\"For Celsius {celsius} equivalent Fahrenheit temperature is: {fahrenheit} \")\n"
   ]
  },
  {
   "cell_type": "markdown",
   "id": "90bd9b64",
   "metadata": {},
   "source": [
    "### 3. Write a Python program to display calendar?\n"
   ]
  },
  {
   "cell_type": "markdown",
   "id": "404c56df",
   "metadata": {},
   "source": [
    "##### Sol."
   ]
  },
  {
   "cell_type": "code",
   "execution_count": 6,
   "id": "eab55b59",
   "metadata": {},
   "outputs": [
    {
     "name": "stdout",
     "output_type": "stream",
     "text": [
      "   December 2021\n",
      "Mo Tu We Th Fr Sa Su\n",
      "       1  2  3  4  5\n",
      " 6  7  8  9 10 11 12\n",
      "13 14 15 16 17 18 19\n",
      "20 21 22 23 24 25 26\n",
      "27 28 29 30 31\n",
      "\n"
     ]
    }
   ],
   "source": [
    "import calendar\n",
    "year  = 2021\n",
    "month = 12\n",
    "\n",
    "print(calendar.month(year,month))"
   ]
  },
  {
   "cell_type": "code",
   "execution_count": 7,
   "id": "2639b5af",
   "metadata": {},
   "outputs": [
    {
     "name": "stdout",
     "output_type": "stream",
     "text": [
      "                                  2022\n",
      "\n",
      "      January                   February                   March\n",
      "Mo Tu We Th Fr Sa Su      Mo Tu We Th Fr Sa Su      Mo Tu We Th Fr Sa Su\n",
      "                1  2          1  2  3  4  5  6          1  2  3  4  5  6\n",
      " 3  4  5  6  7  8  9       7  8  9 10 11 12 13       7  8  9 10 11 12 13\n",
      "10 11 12 13 14 15 16      14 15 16 17 18 19 20      14 15 16 17 18 19 20\n",
      "17 18 19 20 21 22 23      21 22 23 24 25 26 27      21 22 23 24 25 26 27\n",
      "24 25 26 27 28 29 30      28                        28 29 30 31\n",
      "31\n",
      "\n",
      "       April                      May                       June\n",
      "Mo Tu We Th Fr Sa Su      Mo Tu We Th Fr Sa Su      Mo Tu We Th Fr Sa Su\n",
      "             1  2  3                         1             1  2  3  4  5\n",
      " 4  5  6  7  8  9 10       2  3  4  5  6  7  8       6  7  8  9 10 11 12\n",
      "11 12 13 14 15 16 17       9 10 11 12 13 14 15      13 14 15 16 17 18 19\n",
      "18 19 20 21 22 23 24      16 17 18 19 20 21 22      20 21 22 23 24 25 26\n",
      "25 26 27 28 29 30         23 24 25 26 27 28 29      27 28 29 30\n",
      "                          30 31\n",
      "\n",
      "        July                     August                  September\n",
      "Mo Tu We Th Fr Sa Su      Mo Tu We Th Fr Sa Su      Mo Tu We Th Fr Sa Su\n",
      "             1  2  3       1  2  3  4  5  6  7                1  2  3  4\n",
      " 4  5  6  7  8  9 10       8  9 10 11 12 13 14       5  6  7  8  9 10 11\n",
      "11 12 13 14 15 16 17      15 16 17 18 19 20 21      12 13 14 15 16 17 18\n",
      "18 19 20 21 22 23 24      22 23 24 25 26 27 28      19 20 21 22 23 24 25\n",
      "25 26 27 28 29 30 31      29 30 31                  26 27 28 29 30\n",
      "\n",
      "      October                   November                  December\n",
      "Mo Tu We Th Fr Sa Su      Mo Tu We Th Fr Sa Su      Mo Tu We Th Fr Sa Su\n",
      "                1  2          1  2  3  4  5  6                1  2  3  4\n",
      " 3  4  5  6  7  8  9       7  8  9 10 11 12 13       5  6  7  8  9 10 11\n",
      "10 11 12 13 14 15 16      14 15 16 17 18 19 20      12 13 14 15 16 17 18\n",
      "17 18 19 20 21 22 23      21 22 23 24 25 26 27      19 20 21 22 23 24 25\n",
      "24 25 26 27 28 29 30      28 29 30                  26 27 28 29 30 31\n",
      "31\n",
      "\n"
     ]
    }
   ],
   "source": [
    "year = 2022\n",
    "print(calendar.calendar(year))"
   ]
  },
  {
   "cell_type": "markdown",
   "id": "5b8f1c08",
   "metadata": {},
   "source": [
    "### 4. Write a Python program to solve quadratic equation?\n"
   ]
  },
  {
   "cell_type": "markdown",
   "id": "29125e22",
   "metadata": {},
   "source": [
    "##### Sol."
   ]
  },
  {
   "cell_type": "code",
   "execution_count": 10,
   "id": "0d3d9ea5",
   "metadata": {},
   "outputs": [
    {
     "name": "stdout",
     "output_type": "stream",
     "text": [
      "ax^2+bx+c = 0\n",
      "Enter the coefficients of a, b and constant c\n",
      "Enter coefficient of a: 1\n",
      "Enter coefficient of b: -9\n",
      "Enter the constant   c: 14\n",
      "For quadratic equation 1x^2+-9x^1+14\n",
      "The solution are: 7.0 and 2.0\n"
     ]
    }
   ],
   "source": [
    "import math\n",
    "\n",
    "print(\"ax^2+bx+c = 0\")\n",
    "print(\"Enter the coefficients of a, b and constant c\")\n",
    "\n",
    "a = int(input(\"Enter coefficient of a: \"))\n",
    "b = int(input(\"Enter coefficient of b: \"))\n",
    "c = int(input(\"Enter the constant   c: \"))\n",
    "\n",
    "\n",
    "d = (b**2) -(4*a*c)\n",
    "\n",
    "root1 = ((-1*b) + (math.sqrt(d))) / (2*a)\n",
    "root2 = ((-1*b) - (math.sqrt(d))) / (2*a)\n",
    "\n",
    "print(f\"For quadratic equation {a}x^2+{b}x^1+{c}\")\n",
    "print(f\"The solution are: {root1} and {root2}\")"
   ]
  },
  {
   "cell_type": "markdown",
   "id": "ba52cce6",
   "metadata": {},
   "source": [
    "### 5. Write a Python program to swap two variables without temp variable?\n"
   ]
  },
  {
   "cell_type": "markdown",
   "id": "d41e799c",
   "metadata": {},
   "source": [
    "##### Sol."
   ]
  },
  {
   "cell_type": "code",
   "execution_count": 14,
   "id": "ff9a2702",
   "metadata": {},
   "outputs": [
    {
     "name": "stdout",
     "output_type": "stream",
     "text": [
      "a before swaping: 20\n",
      "b before swaping: 10\n",
      "\n",
      "a after swaping : 10\n",
      "b after swaping : 20\n"
     ]
    }
   ],
   "source": [
    "a = 20\n",
    "b = 10\n",
    "\n",
    "print(f\"a before swaping: {a}\")\n",
    "print(f\"b before swaping: {b}\")\n",
    "\n",
    "print()\n",
    "a = a+b\n",
    "b = a-b\n",
    "a = a-b\n",
    "\n",
    "print(f\"a after swaping : {a}\")\n",
    "print(f\"b after swaping : {b}\")"
   ]
  },
  {
   "cell_type": "code",
   "execution_count": null,
   "id": "7ac896b9",
   "metadata": {},
   "outputs": [],
   "source": []
  }
 ],
 "metadata": {
  "kernelspec": {
   "display_name": "Python 3 (ipykernel)",
   "language": "python",
   "name": "python3"
  },
  "language_info": {
   "codemirror_mode": {
    "name": "ipython",
    "version": 3
   },
   "file_extension": ".py",
   "mimetype": "text/x-python",
   "name": "python",
   "nbconvert_exporter": "python",
   "pygments_lexer": "ipython3",
   "version": "3.10.5"
  }
 },
 "nbformat": 4,
 "nbformat_minor": 5
}
