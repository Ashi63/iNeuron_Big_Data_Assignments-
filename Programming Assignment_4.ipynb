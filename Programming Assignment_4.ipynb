{
 "cells": [
  {
   "cell_type": "markdown",
   "id": "1cf097ff",
   "metadata": {},
   "source": [
    "## Programming Assignment_4\n",
    "----------------"
   ]
  },
  {
   "cell_type": "markdown",
   "id": "ed183609",
   "metadata": {},
   "source": [
    "### 1. Write a Python Program to Find the Factorial of a Number?\n"
   ]
  },
  {
   "cell_type": "markdown",
   "id": "d25d5550",
   "metadata": {},
   "source": [
    "##### Sol."
   ]
  },
  {
   "cell_type": "code",
   "execution_count": 2,
   "id": "7d50199a",
   "metadata": {},
   "outputs": [
    {
     "name": "stdout",
     "output_type": "stream",
     "text": [
      "Enter the number for factorial.5\n",
      "Factorial of 5 is 120\n"
     ]
    }
   ],
   "source": [
    "user_input = int(input(\"Enter the number for factorial.\"))\n",
    "\n",
    "fact = 1\n",
    "\n",
    "for i in range(user_input,0,-1):\n",
    "    fact = fact * i \n",
    "print(f\"Factorial of {user_input} is {fact}\")\n"
   ]
  },
  {
   "cell_type": "markdown",
   "id": "a0c83e7a",
   "metadata": {},
   "source": [
    "### 2. Write a Python Program to Display the multiplication Table?\n"
   ]
  },
  {
   "cell_type": "markdown",
   "id": "1a092a70",
   "metadata": {},
   "source": [
    "##### Sol."
   ]
  },
  {
   "cell_type": "code",
   "execution_count": 10,
   "id": "5b6bcd78",
   "metadata": {},
   "outputs": [
    {
     "name": "stdout",
     "output_type": "stream",
     "text": [
      "Enter the number for Table. 3\n",
      "3 x 1 = 3\n",
      "3 x 2 = 6\n",
      "3 x 3 = 9\n",
      "3 x 4 = 12\n",
      "3 x 5 = 15\n",
      "3 x 6 = 18\n",
      "3 x 7 = 21\n",
      "3 x 8 = 24\n",
      "3 x 9 = 27\n",
      "3 x 10 = 30\n"
     ]
    }
   ],
   "source": [
    "user_input = int(input(\"Enter the number for Table. \"))\n",
    "\n",
    "\n",
    "for i in range(1,11):\n",
    "    print(f\"{user_input} x {i} = {i*user_input}\")\n",
    "    "
   ]
  },
  {
   "cell_type": "markdown",
   "id": "8645a29e",
   "metadata": {},
   "source": [
    "### 3. Write a Python Program to Print the Fibonacci sequence?\n"
   ]
  },
  {
   "cell_type": "markdown",
   "id": "9728ebf6",
   "metadata": {},
   "source": [
    "##### Sol."
   ]
  },
  {
   "cell_type": "code",
   "execution_count": 21,
   "id": "0884660b",
   "metadata": {},
   "outputs": [
    {
     "name": "stdout",
     "output_type": "stream",
     "text": [
      "How many terms? 5\n",
      "Fibonacci sequence: \n",
      "0\n",
      "1\n",
      "1\n",
      "2\n",
      "3\n"
     ]
    }
   ],
   "source": [
    "nterms = int(input(\"How many terms? \"))\n",
    "\n",
    "# first two terms\n",
    "n1,n2 = 0,1\n",
    "count = 0\n",
    "\n",
    "# check if number of terms is valid or not\n",
    "if nterms<=0:\n",
    "    print(\"Please enter a positive integer.\")\n",
    "# if there is only one term, return n1\n",
    "elif nterms==1:\n",
    "    print(f\"Fibonacci sequence upto {nterms}:\")\n",
    "    print(n1)\n",
    "#generate the fibonacci sequence\n",
    "else:\n",
    "    print(\"Fibonacci sequence: \")\n",
    "    while count<nterms:\n",
    "        print(n1)\n",
    "        nth = n1+n2\n",
    "        # update values\n",
    "        n1 = n2\n",
    "        n2 = nth\n",
    "        count += 1\n",
    "    "
   ]
  },
  {
   "cell_type": "markdown",
   "id": "7964e324",
   "metadata": {},
   "source": [
    "### 4. Write a Python Program to Check Armstrong Number?\n"
   ]
  },
  {
   "cell_type": "markdown",
   "id": "d64cde85",
   "metadata": {},
   "source": [
    "##### Sol. "
   ]
  },
  {
   "cell_type": "code",
   "execution_count": 31,
   "id": "13871c73",
   "metadata": {},
   "outputs": [
    {
     "name": "stdout",
     "output_type": "stream",
     "text": [
      "Enter the number: 153\n",
      "153 is a Armstrong Number.\n"
     ]
    }
   ],
   "source": [
    "user_input = int(input(\"Enter the number: \"))\n",
    "\n",
    "# change user input to string and calculate the length \n",
    "order = len(str(user_input))\n",
    "\n",
    "# initialize the sum \n",
    "sum = 0\n",
    "\n",
    "# find sum of order of each digit\n",
    "temp = user_input\n",
    "while temp > 0:\n",
    "    digit = temp%10\n",
    "    sum  += digit**order\n",
    "    temp //= 10\n",
    "if (sum == user_input):\n",
    "    print(f\"{user_input} is a Armstrong Number.\")\n",
    "else:\n",
    "    print(f\"{user_input} is not a Armstrong Number.\")\n",
    "\n"
   ]
  },
  {
   "cell_type": "markdown",
   "id": "a0a26cb0",
   "metadata": {},
   "source": [
    "### 5. Write a Python Program to Find Armstrong Number in an Interval?\n"
   ]
  },
  {
   "cell_type": "markdown",
   "id": "480fec87",
   "metadata": {},
   "source": [
    "##### Sol."
   ]
  },
  {
   "cell_type": "code",
   "execution_count": 33,
   "id": "400f78f9",
   "metadata": {},
   "outputs": [
    {
     "name": "stdout",
     "output_type": "stream",
     "text": [
      "Enter the number to Find Armstrong Number from: 100\n",
      "Enter the number to Find Armstrong Number upto: 1000\n",
      "153\n",
      "370\n",
      "371\n",
      "407\n"
     ]
    }
   ],
   "source": [
    "lower = int(input(\"Enter the number to Find Armstrong Number from: \"))\n",
    "upper = int(input(\"Enter the number to Find Armstrong Number upto: \"))\n",
    "\n",
    "for i in range(lower,upper+1):\n",
    "    # order of number\n",
    "    order = len(str(i))\n",
    "    \n",
    "    # initilize the sum\n",
    "    sum = 0\n",
    "    \n",
    "    # find sum of order of digits\n",
    "    temp = i\n",
    "    while temp > 0:\n",
    "        digit = temp % 10\n",
    "        sum  += digit ** order\n",
    "        temp //= 10\n",
    "        \n",
    "    if sum == i:\n",
    "        print(i)\n",
    "        "
   ]
  },
  {
   "cell_type": "markdown",
   "id": "be3b0f32",
   "metadata": {},
   "source": [
    "### 6. Write a Python Program to Find the Sum of Natural Numbers?\n"
   ]
  },
  {
   "cell_type": "markdown",
   "id": "d351b3f5",
   "metadata": {},
   "source": [
    "##### Sol."
   ]
  },
  {
   "cell_type": "code",
   "execution_count": 36,
   "id": "57128d7b",
   "metadata": {},
   "outputs": [
    {
     "name": "stdout",
     "output_type": "stream",
     "text": [
      "Enter the natural number upto which sum is needed: 16\n",
      "Sum of natural numbers is 136 \n"
     ]
    }
   ],
   "source": [
    "user_input = int(input(\"Enter the natural number upto which sum is needed: \"))\n",
    "\n",
    "\n",
    "if user_input < 0:\n",
    "    print(\"Enter the positive number.\")\n",
    "else:\n",
    "    sum = 0\n",
    "    while user_input > 0:\n",
    "        sum += user_input\n",
    "        user_input -= 1\n",
    "    print(f\"Sum of natural numbers is {sum} \")"
   ]
  },
  {
   "cell_type": "code",
   "execution_count": null,
   "id": "9cc03ad2",
   "metadata": {},
   "outputs": [],
   "source": []
  }
 ],
 "metadata": {
  "kernelspec": {
   "display_name": "Python 3 (ipykernel)",
   "language": "python",
   "name": "python3"
  },
  "language_info": {
   "codemirror_mode": {
    "name": "ipython",
    "version": 3
   },
   "file_extension": ".py",
   "mimetype": "text/x-python",
   "name": "python",
   "nbconvert_exporter": "python",
   "pygments_lexer": "ipython3",
   "version": "3.10.5"
  }
 },
 "nbformat": 4,
 "nbformat_minor": 5
}
