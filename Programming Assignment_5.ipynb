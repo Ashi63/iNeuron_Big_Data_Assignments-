{
 "cells": [
  {
   "cell_type": "markdown",
   "id": "bfcd26fe",
   "metadata": {},
   "source": [
    "## Python Basic Programming Assignment - 5\n",
    "--------------\n"
   ]
  },
  {
   "cell_type": "markdown",
   "id": "54bfeeef",
   "metadata": {},
   "source": [
    "### 1. Write a Python Program to Find LCM?"
   ]
  },
  {
   "cell_type": "markdown",
   "id": "4711681b",
   "metadata": {},
   "source": [
    "#### Sol:"
   ]
  },
  {
   "cell_type": "code",
   "execution_count": 5,
   "id": "831576e8",
   "metadata": {},
   "outputs": [
    {
     "data": {
      "text/plain": [
       "18"
      ]
     },
     "execution_count": 5,
     "metadata": {},
     "output_type": "execute_result"
    }
   ],
   "source": [
    "def lcm(a,b):\n",
    "    high = a if a>b else b\n",
    "    \n",
    "    while True:\n",
    "        if (high%a==0) and (high%b==0):\n",
    "            break\n",
    "        else:\n",
    "            high += 1\n",
    "    \n",
    "    return high\n",
    "\n",
    "lcm(6,9)"
   ]
  },
  {
   "cell_type": "markdown",
   "id": "f403edba",
   "metadata": {},
   "source": [
    "### 2. Write a Python Program to Find HCF?"
   ]
  },
  {
   "cell_type": "code",
   "execution_count": 13,
   "id": "ea1c9abf",
   "metadata": {},
   "outputs": [
    {
     "name": "stdout",
     "output_type": "stream",
     "text": [
      "Enter First number: 6\n",
      "Enter Second number: 9\n"
     ]
    },
    {
     "data": {
      "text/plain": [
       "6"
      ]
     },
     "execution_count": 13,
     "metadata": {},
     "output_type": "execute_result"
    }
   ],
   "source": [
    "def hcf(a,b):\n",
    "    \n",
    "    low = a if a<b else b\n",
    "    \n",
    "    for i in range(1,low+1):\n",
    "        if (low%i==0) and (low%i==0):\n",
    "            hcf = i\n",
    "    return hcf\n",
    "\n",
    "user_input1 = int(input(\"Enter First number: \"))\n",
    "user_input2 = int(input(\"Enter Second number: \"))\n",
    "\n",
    "hcf(user_input1,user_input2)"
   ]
  },
  {
   "cell_type": "markdown",
   "id": "19183b11",
   "metadata": {},
   "source": [
    "### 3. Write a Python Program to Convert Decimal to Binary, Octal and Hexadecimal?"
   ]
  },
  {
   "cell_type": "code",
   "execution_count": 11,
   "id": "84d93459",
   "metadata": {},
   "outputs": [
    {
     "name": "stdout",
     "output_type": "stream",
     "text": [
      "Enter the number: 7\n",
      "Binary conversion of 7 is: 0b111\n",
      "Octal conversion of 7 is: 0o7\n",
      "Hexadecimal conversion of 7 is: 0x7\n"
     ]
    }
   ],
   "source": [
    "user_input = int(input(\"Enter the number: \"))\n",
    "\n",
    "print(f\"Binary conversion of {user_input} is: {bin(user_input)}\")\n",
    "print(f\"Octal conversion of {user_input} is: {oct(user_input)}\")\n",
    "print(f\"Hexadecimal conversion of {user_input} is: {hex(user_input)}\")"
   ]
  },
  {
   "cell_type": "markdown",
   "id": "caa3f5f3",
   "metadata": {},
   "source": [
    "### 4. Write a Python Program To Find ASCII value of a character?"
   ]
  },
  {
   "cell_type": "code",
   "execution_count": 14,
   "id": "065c8a1d",
   "metadata": {},
   "outputs": [
    {
     "name": "stdout",
     "output_type": "stream",
     "text": [
      "Enter the Character: A\n",
      "ASCII value of the A is 65\n"
     ]
    }
   ],
   "source": [
    "user_input = input(\"Enter the Character: \")\n",
    "print(f\"ASCII value of the {user_input} is {ord(user_input)}\")"
   ]
  },
  {
   "cell_type": "markdown",
   "id": "060b7ef8",
   "metadata": {},
   "source": [
    "### 5. Write a Python Program to Make a Simple Calculator with 4 basic mathematical operations?"
   ]
  },
  {
   "cell_type": "code",
   "execution_count": null,
   "id": "eb68775e",
   "metadata": {},
   "outputs": [],
   "source": [
    "\n",
    "def menu():\n",
    "    user_input = int(input(\"\"\"Enter the option.\n",
    "    1. For Addition.\n",
    "    2. For Substraction.\n",
    "    3. For Multiplication.\n",
    "    4. For Division.\n",
    "    0. For Exit.\n",
    "    \"\"\"))\n",
    "    return user_input\n",
    "\n",
    "user_input = menu()\n",
    "\n",
    "num1 = int(input(\"Enter the first number: \"))\n",
    "num2 = int(input(\"Enter the second number: \"))\n",
    "\n",
    "if user_input == 1:\n",
    "    print(f\"Addition of {num1} and {num2} is : {num1+num2}\")\n",
    "elif user_input == 2:\n",
    "    print(f\"Substraction of {num1} and {num2} is : {num1-num2}\")\n",
    "elif user_input == 3:\n",
    "    print(f\"Multiplication of {num1} and {num2} is : {num1*num2}\")\n",
    "elif user_input == 4:\n",
    "    print(f\"Division of {num1} and {num2} is : {num1/num2}\")\n",
    "elif user_input == 0:\n",
    "    print(f\"Thank You...!!\")\n",
    "else:\n",
    "    print(\"Select from the option above.\")\n",
    "    menu()"
   ]
  }
 ],
 "metadata": {
  "kernelspec": {
   "display_name": "Python 3 (ipykernel)",
   "language": "python",
   "name": "python3"
  },
  "language_info": {
   "codemirror_mode": {
    "name": "ipython",
    "version": 3
   },
   "file_extension": ".py",
   "mimetype": "text/x-python",
   "name": "python",
   "nbconvert_exporter": "python",
   "pygments_lexer": "ipython3",
   "version": "3.10.5"
  }
 },
 "nbformat": 4,
 "nbformat_minor": 5
}
